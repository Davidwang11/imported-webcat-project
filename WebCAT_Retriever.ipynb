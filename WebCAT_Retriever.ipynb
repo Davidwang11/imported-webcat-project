{
 "cells": [
  {
   "cell_type": "code",
   "execution_count": 1,
   "metadata": {},
   "outputs": [],
   "source": [
    "#import the libraries we need to download the video and then cut it into thumbnails\n",
    "import urllib\n",
    "import cv2"
   ]
  },
  {
   "cell_type": "code",
   "execution_count": 3,
   "metadata": {},
   "outputs": [
    {
     "data": {
      "text/plain": [
       "('test.mp4', <http.client.HTTPMessage at 0x108ee5a10>)"
      ]
     },
     "execution_count": 3,
     "metadata": {},
     "output_type": "execute_result"
    }
   ],
   "source": [
    "#Download the video from WebCAT and give it a name.\n",
    "# here is the WebCAT link: https://secoora.org/webcat/\n",
    "\n",
    "# and here is the query pattern:\n",
    "\n",
    "# http://webcat-video.axds.co/<station code>/raw/<year>/<year>_<month>/<year>_<month>_<day>/<station code>.<year>-<month>-<day>_<time>.mp4\n",
    "\n",
    "urllib.request.urlretrieve(\"http://webcat-video.axds.co/buxtoncoastalcam/raw/2019/2019_11/2019_11_13/buxtoncoastalcam.2019-11-13_1000.mp4\", 'test.mp4')"
   ]
  },
  {
   "cell_type": "code",
   "execution_count": 19,
   "metadata": {},
   "outputs": [],
   "source": [
    "# Get the Video\n",
    "WaveVid = cv2.VideoCapture('test.mp4')"
   ]
  },
  {
   "cell_type": "code",
   "execution_count": 26,
   "metadata": {},
   "outputs": [
    {
     "data": {
      "text/plain": [
       "28"
      ]
     },
     "execution_count": 26,
     "metadata": {},
     "output_type": "execute_result"
    }
   ],
   "source": [
    "#get FPS\n",
    "fps = int(WaveVid.get(cv2.CAP_PROP_FPS))\n",
    "fps"
   ]
  },
  {
   "cell_type": "code",
   "execution_count": 31,
   "metadata": {},
   "outputs": [
    {
     "data": {
      "text/plain": [
       "17097.0"
      ]
     },
     "execution_count": 31,
     "metadata": {},
     "output_type": "execute_result"
    }
   ],
   "source": [
    "#get total number of frames (should be ~16,800, which is 10 mins)\n",
    "ten_minutes = 16800\n",
    "total_frames = WaveVid.get(7)\n",
    "total_frames"
   ]
  },
  {
   "cell_type": "code",
   "execution_count": 34,
   "metadata": {},
   "outputs": [
    {
     "data": {
      "text/plain": [
       "280"
      ]
     },
     "execution_count": 34,
     "metadata": {},
     "output_type": "execute_result"
    }
   ],
   "source": [
    "#frame every 10 seconds, (which is 61 frames for a 10 minute video):\n",
    "\n",
    "interval = 10\n",
    "step = interval * fps\n",
    "step"
   ]
  },
  {
   "cell_type": "code",
   "execution_count": 59,
   "metadata": {},
   "outputs": [],
   "source": [
    "#cut the video up and save it by frame number:\n",
    "for i in range(0, (ten_minutes+step), step):\n",
    "    WaveVid.set(1, i)\n",
    "    #print(i)\n",
    "    ret, frame = WaveVid.read()\n",
    "    cv2.imwrite(\"frame%d.jpg\" % i, frame)"
   ]
  }
 ],
 "metadata": {
  "kernelspec": {
   "display_name": "Python 3",
   "language": "python",
   "name": "python3"
  },
  "language_info": {
   "codemirror_mode": {
    "name": "ipython",
    "version": 3
   },
   "file_extension": ".py",
   "mimetype": "text/x-python",
   "name": "python",
   "nbconvert_exporter": "python",
   "pygments_lexer": "ipython3",
   "version": "3.7.4"
  }
 },
 "nbformat": 4,
 "nbformat_minor": 2
}
